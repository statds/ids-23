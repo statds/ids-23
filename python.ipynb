{
  "cells": [
    {
      "cell_type": "markdown",
      "metadata": {},
      "source": [
        "# Python Refreshment\n",
        "\n",
        "\n",
        "You have programmed in Python. Regardless of your skill level, let us\n",
        "do some refreshing.\n",
        "\n",
        "## The Python World\n",
        "\n",
        "+ Function: a block of organized, reusable code to complete certain\n",
        "  task.\n",
        "+ Module: a file containing a collection of functions, variables, and\n",
        "  statements.\n",
        "+ Package: a structured directory containing collections of modules\n",
        "  and an `__init.py__` file by which the directory is interpreted as a\n",
        "  package.\n",
        "+ Library: a collection of related functionality of codes. It is a\n",
        "  reusable chunk of code that we can use by importing it in our\n",
        "  program, we can just use it by importing that library and calling\n",
        "  the method of that library with period(.).\n",
        "\n",
        "See, for example, [how to build a Python\n",
        "libratry](https://medium.com/analytics-vidhya/how-to-create-a-python-library-7d5aea80cc3f).\n",
        "\n",
        "\n",
        "## Standard Library\n",
        "\n",
        "Python’s has an extensive standard library that offers a wide range of\n",
        "facilities as indicated by the long table of contents listed below. \n",
        "See documentation [online](https://docs.python.org/3/library/).\n",
        "\n",
        "> The library contains built-in modules (written in C) that provide access to\n",
        "> system functionality such as file I/O that would otherwise be inaccessible to\n",
        "> Python programmers, as well as modules written in Python that provide\n",
        "> standardized solutions for many problems that occur in everyday\n",
        "> programming. Some of these modules are explicitly designed to encourage and\n",
        "> enhance the portability of Python programs by abstracting away\n",
        "> platform-specifics into platform-neutral APIs.\n",
        "\n",
        "\n",
        "Question: How to get the constant $e$ to an arbitary precision?\n",
        "\n",
        "The constant is only represented by a given double precision."
      ],
      "id": "ca7dea42"
    },
    {
      "cell_type": "code",
      "metadata": {},
      "source": [
        "import math\n",
        "print(\"%0.20f\" % math.e)\n",
        "print(\"%0.80f\" % math.e)"
      ],
      "id": "9ef85f67",
      "execution_count": null,
      "outputs": []
    },
    {
      "cell_type": "markdown",
      "metadata": {},
      "source": [
        "Now use package `decimal` to export with an arbitary precision."
      ],
      "id": "6c55c9d1"
    },
    {
      "cell_type": "code",
      "metadata": {},
      "source": [
        "import decimal  # for what?\n",
        "\n",
        "## set the required number digits to 150\n",
        "decimal.getcontext().prec = 150\n",
        "decimal.Decimal(1).exp().to_eng_string()\n",
        "decimal.Decimal(1).exp().to_eng_string()[2:]"
      ],
      "id": "f73e43bc",
      "execution_count": null,
      "outputs": []
    },
    {
      "cell_type": "markdown",
      "metadata": {},
      "source": [
        "## Important Libraries\n",
        "\n",
        "+ NumPy\n",
        "+ pandas\n",
        "+ matplotlib\n",
        "+ IPython/Jupyter\n",
        "+ SciPy\n",
        "+ scikit-learn\n",
        "+ statsmodels\n",
        "\n",
        "Question: how to draw a random sample from a normal distribution and\n",
        "evaluate the density and distributions at these points?"
      ],
      "id": "420cc5a2"
    },
    {
      "cell_type": "code",
      "metadata": {},
      "source": [
        "from scipy.stats import norm\n",
        "\n",
        "mu, sigma = 2, 4\n",
        "mean, var, skew, kurt = norm.stats(mu, sigma, moments='mvsk')\n",
        "print(mean, var, skew, kurt)\n",
        "x = norm.rvs(loc = mu, scale = sigma, size = 10)\n",
        "x"
      ],
      "id": "69a5f4f6",
      "execution_count": null,
      "outputs": []
    },
    {
      "cell_type": "markdown",
      "metadata": {},
      "source": [
        "The pdf and cdf can be evaluated:"
      ],
      "id": "460da64a"
    },
    {
      "cell_type": "code",
      "metadata": {},
      "source": [
        "norm.pdf(x, loc = mu, scale = sigma)"
      ],
      "id": "60b71ed8",
      "execution_count": null,
      "outputs": []
    },
    {
      "cell_type": "markdown",
      "metadata": {},
      "source": [
        "## Writing a Function\n",
        "\n",
        "Consider the Fibonacci Sequence\n",
        "$1, 1, 2, 3, 5, 8, 13, 21, 34, ...$.\n",
        "The next number is found by adding up the two numbers before it.\n",
        "We are going to use 3 ways to solve the problems.\n",
        "\n",
        "\n",
        "The first is a recursive solution."
      ],
      "id": "2a840cae"
    },
    {
      "cell_type": "code",
      "metadata": {},
      "source": [
        "def fib_rs(n):\n",
        "    if (n==1 or n==2):\n",
        "        return 1\n",
        "    else:\n",
        "        return fib_rs(n - 1) + fib_rs(n - 2)\n",
        "\n",
        "%timeit fib_rs(10)"
      ],
      "id": "a7af6d53",
      "execution_count": null,
      "outputs": []
    },
    {
      "cell_type": "markdown",
      "metadata": {},
      "source": [
        "The second uses dynamic programming memoization."
      ],
      "id": "53274e5f"
    },
    {
      "cell_type": "code",
      "metadata": {},
      "source": [
        "def fib_dm_helper(n, mem):\n",
        "    if mem[n] is not None:\n",
        "        return mem[n]\n",
        "    elif (n == 1 or n == 2):\n",
        "        result = 1\n",
        "    else:\n",
        "        result = fib_dm_helper(n - 1, mem) + fib_dm_helper(n - 2, mem)\n",
        "    mem[n] = result\n",
        "    return result\n",
        "\n",
        "def fib_dm(n):\n",
        "    mem = [None] * (n + 1)\n",
        "    return fib_dm_helper(n, mem)\n",
        "\n",
        "%timeit fib_dm(10)"
      ],
      "id": "8ec94d9d",
      "execution_count": null,
      "outputs": []
    },
    {
      "cell_type": "markdown",
      "metadata": {},
      "source": [
        "The third is still dynamic programming but bottom-up."
      ],
      "id": "aabdd3ed"
    },
    {
      "cell_type": "code",
      "metadata": {},
      "source": [
        "def fib_dbu(n):\n",
        "    mem = [None] * (n + 1)\n",
        "    mem[1]=1;\n",
        "    mem[2]=1;\n",
        "    for i in range(3,n+1):\n",
        "        mem[i] = mem[i-1] + mem[i-2]\n",
        "    return mem[n]\n",
        "\n",
        "\n",
        "%timeit fib_dbu(500)"
      ],
      "id": "28b05d83",
      "execution_count": null,
      "outputs": []
    },
    {
      "cell_type": "markdown",
      "metadata": {},
      "source": [
        "Apparently, the three solutions have very different performance for\n",
        "larger `n`.\n",
        "\n",
        "\n",
        "## Variables versus Objects\n",
        "\n",
        "In Python, variables and the objects they point to actually live in\n",
        "two different places in the computer memory. Think of variables as\n",
        "pointers to the objects they’re associated with, rather than being\n",
        "those objects. This matters when multiple variables point to the same\n",
        "object."
      ],
      "id": "3fc62cc0"
    },
    {
      "cell_type": "code",
      "metadata": {},
      "source": [
        "x = [1, 2, 3]  # create a list; x points to the list\n",
        "y = x          # y also points to the same list in the memory\n",
        "y.append(4)    # append to y\n",
        "x              # x changed!"
      ],
      "id": "6bc237ec",
      "execution_count": null,
      "outputs": []
    },
    {
      "cell_type": "markdown",
      "metadata": {},
      "source": [
        "Now check their addresses"
      ],
      "id": "2b56203a"
    },
    {
      "cell_type": "code",
      "metadata": {},
      "source": [
        "print(id(x))   # address of x\n",
        "print(id(y))   # address of y"
      ],
      "id": "e5b21b32",
      "execution_count": null,
      "outputs": []
    },
    {
      "cell_type": "markdown",
      "metadata": {},
      "source": [
        "Nonetheless, some data types in Python are \"immutable\", meaning that\n",
        "their values cannot be changed in place. One such example is strings."
      ],
      "id": "c525ebca"
    },
    {
      "cell_type": "code",
      "metadata": {},
      "source": [
        "x = \"abc\"\n",
        "y = x\n",
        "y = \"xyz\"\n",
        "x"
      ],
      "id": "afefb2ef",
      "execution_count": null,
      "outputs": []
    },
    {
      "cell_type": "markdown",
      "metadata": {},
      "source": [
        "Now check their addresses"
      ],
      "id": "d5b276db"
    },
    {
      "cell_type": "code",
      "metadata": {},
      "source": [
        "print(id(x))   # address of x\n",
        "print(id(y))   # address of y"
      ],
      "id": "ca80a465",
      "execution_count": null,
      "outputs": []
    },
    {
      "cell_type": "markdown",
      "metadata": {},
      "source": [
        "Question: What's mutable and what's immutable?\n",
        "\n",
        "Anything that is a collection of other objects is mutable, except\n",
        "``tuples``.\n",
        "\n",
        "Not all manipulations of mutable objects change the object rather than\n",
        "create a new object. Sometimes when you do something to a mutable\n",
        "object, you get back a new object. Manipulations that change an\n",
        "existing object, rather than create a new one, are referred to as\n",
        "“in-place mutations” or just “mutations.” So:\n",
        "\n",
        "+ __All__ manipulations of immutable types create new objects.\n",
        "+ __Some__ manipulations of mutable types create new objects.\n",
        "\n",
        "Different variables may all be pointing at the same object is\n",
        "preserved through function calls (a behavior known as “pass by\n",
        "object-reference”). So if you pass a list to a function, and that\n",
        "function manipulates that list using an in-place mutation, that change\n",
        "will affect any variable that was pointing to that same object outside\n",
        "the function."
      ],
      "id": "0c615c5b"
    },
    {
      "cell_type": "code",
      "metadata": {},
      "source": [
        "x = [1, 2, 3]\n",
        "y = x\n",
        "\n",
        "def append_42(input_list):\n",
        "    input_list.append(42)\n",
        "    return input_list\n",
        "\n",
        "append_42(x)"
      ],
      "id": "1ac66ed4",
      "execution_count": null,
      "outputs": []
    },
    {
      "cell_type": "markdown",
      "metadata": {},
      "source": [
        "Note that both `x` and `y` have been appended by $42$.\n"
      ],
      "id": "a2725782"
    }
  ],
  "metadata": {
    "kernelspec": {
      "name": "python3",
      "language": "python",
      "display_name": "Python 3 (ipykernel)"
    }
  },
  "nbformat": 4,
  "nbformat_minor": 5
}